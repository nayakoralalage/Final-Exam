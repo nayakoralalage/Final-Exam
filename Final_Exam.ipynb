{
  "nbformat": 4,
  "nbformat_minor": 0,
  "metadata": {
    "colab": {
      "name": "Final Exam.ipynb",
      "provenance": [],
      "authorship_tag": "ABX9TyMzk4wx2Gv4W3O964+BEauq",
      "include_colab_link": true
    },
    "kernelspec": {
      "name": "python3",
      "display_name": "Python 3"
    },
    "language_info": {
      "name": "python"
    }
  },
  "cells": [
    {
      "cell_type": "markdown",
      "metadata": {
        "id": "view-in-github",
        "colab_type": "text"
      },
      "source": [
        "<a href=\"https://colab.research.google.com/github/nayakoralalage/Final-Exam/blob/main/Final_Exam.ipynb\" target=\"_parent\"><img src=\"https://colab.research.google.com/assets/colab-badge.svg\" alt=\"Open In Colab\"/></a>"
      ]
    },
    {
      "cell_type": "code",
      "metadata": {
        "id": "sgt0QiHBzflN"
      },
      "source": [
        "import pandas as pd"
      ],
      "execution_count": 1,
      "outputs": []
    },
    {
      "cell_type": "code",
      "metadata": {
        "id": "cQN2R7Vo7VbO"
      },
      "source": [
        "data = pd.read_csv(filename)\n",
        "data.tail(101)"
      ],
      "execution_count": null,
      "outputs": []
    },
    {
      "cell_type": "code",
      "metadata": {
        "id": "iuguDa3F3sTo"
      },
      "source": [
        "#alternative way to get the csv file \n",
        "\n",
        "filename = '/content/sales.csv'\n",
        "\n",
        "\n",
        "with open(filename, 'r') as f:\n",
        " for line in f:\n",
        "      print(line)"
      ],
      "execution_count": null,
      "outputs": []
    },
    {
      "cell_type": "code",
      "metadata": {
        "id": "kvUQGUNc5eYc"
      },
      "source": [
        "#read the CSV\n",
        "\n",
        "import csv"
      ],
      "execution_count": 5,
      "outputs": []
    },
    {
      "cell_type": "code",
      "metadata": {
        "id": "aFrJbZsX6fcU"
      },
      "source": [
        "help(csv.reader)"
      ],
      "execution_count": null,
      "outputs": []
    },
    {
      "cell_type": "code",
      "metadata": {
        "colab": {
          "base_uri": "https://localhost:8080/"
        },
        "id": "JgPTTR8j4QnZ",
        "outputId": "6e5a7665-138e-46fe-9604-b9170386eb0b"
      },
      "source": [
        "#I know this is not the correct answer but I tried this\n",
        "\n",
        "data = {\"Region\":[], \"Country\":['Tuvalu'], \"Total Profit\":[]}\n",
        "df = pd.read_csv(filename)\n",
        "selected_columns = df[[\"Region\",\"Country\",\"Total Profit\"]]\n",
        "\n",
        "\n",
        "new_df = selected_columns.copy()\n",
        "print(new_df)"
      ],
      "execution_count": 42,
      "outputs": [
        {
          "output_type": "stream",
          "name": "stdout",
          "text": [
            "                               Region                Country  Total Profit\n",
            "0               Australia and Oceania                 Tuvalu     951410.50\n",
            "1   Central America and the Caribbean                Grenada     248406.36\n",
            "2                              Europe                 Russia     224598.75\n",
            "3                  Sub-Saharan Africa  Sao Tome and Principe      19525.82\n",
            "4                  Sub-Saharan Africa                 Rwanda     639077.50\n",
            "..                                ...                    ...           ...\n",
            "95                 Sub-Saharan Africa                   Mali      65214.72\n",
            "96                               Asia               Malaysia      15103.47\n",
            "97                 Sub-Saharan Africa           Sierra Leone      93748.05\n",
            "98                      North America                 Mexico     144521.02\n",
            "99                 Sub-Saharan Africa             Mozambique     889472.91\n",
            "\n",
            "[100 rows x 3 columns]\n"
          ]
        }
      ]
    },
    {
      "cell_type": "code",
      "metadata": {
        "id": "8pvKvYsIAFH3"
      },
      "source": [
        "#Create the new dataframe for countries in Asutralia and Oceania region\n",
        "\n",
        "# importing pandas as pd\n",
        "import pandas as pd\n",
        "\n",
        "#Creating the dataframe\n",
        "df = pd.DataFrame({\"Region\":['Australia and Oceania','Australia and Oceania','Australia and Oceania',\n",
        "                  'Australia and Oceania', 'Australia and Oceania','Australia and Oceania',\n",
        "                  'Australia and Oceania','Australia and Oceania','Australia and Oceania','Australia and Oceania'],\n",
        "\t\t\t\t\"Country\":['Tuvalu','East Timor','New Zealand','Kiribati','Australia','Fiji','Australia','Federated States of Micronesia','Samoa','Australia'],\n",
        "\t\t\t\t\"Total Profit\":['951410.50','337937.6','5270.67','13009.18', '369155','727423.2','60418.38','146875.14','1678540.98','147031.74' ]})\n",
        "\n",
        "print(df)\n",
        "\n"
      ],
      "execution_count": null,
      "outputs": []
    },
    {
      "cell_type": "code",
      "metadata": {
        "colab": {
          "base_uri": "https://localhost:8080/"
        },
        "id": "K2aVcc54F968",
        "outputId": "f2f1228e-603e-4415-cdf4-958b3d49543d"
      },
      "source": [
        "#Calculate the maximum vale \n",
        "\n",
        "df = pd.DataFrame({\"Total Profit\":['951410.50','337937.6','5270.67','13009.18', \n",
        "                '369155','727423.2','60418.38','146875.14','1678540.98','147031.74' ]})\n",
        "\n",
        "column = df[\"Total Profit\"]\n",
        "max_value = column.max()\n",
        "\n",
        "print(max_value)"
      ],
      "execution_count": 65,
      "outputs": [
        {
          "output_type": "stream",
          "name": "stdout",
          "text": [
            "951410.50\n"
          ]
        }
      ]
    },
    {
      "cell_type": "code",
      "metadata": {
        "colab": {
          "base_uri": "https://localhost:8080/"
        },
        "id": "bGE6I6pIGlUm",
        "outputId": "4405a1b6-3ce3-42fa-8623-d0cf846c5839"
      },
      "source": [
        "#Calculate the minimum vale \n",
        "\n",
        "df = pd.DataFrame({\"Total Profit\":['951410.50','337937.6','5270.67','13009.18', \n",
        "                '369155','727423.2','60418.38','146875.14','1678540.98','147031.74' ]})\n",
        "\n",
        "column = df[\"Total Profit\"]\n",
        "min_value = column.min()\n",
        "\n",
        "print(min_value)"
      ],
      "execution_count": 67,
      "outputs": [
        {
          "output_type": "stream",
          "name": "stdout",
          "text": [
            "13009.18\n"
          ]
        }
      ]
    },
    {
      "cell_type": "code",
      "metadata": {
        "id": "JDhvRYhDHUku"
      },
      "source": [
        "#calculate the average \n",
        "\n",
        "def average(reals):\n",
        "  total = sum(reals)\n",
        "  num_elements = len(reals)\n",
        "  average = total/num_elements\n",
        "  return average "
      ],
      "execution_count": 84,
      "outputs": []
    },
    {
      "cell_type": "code",
      "metadata": {
        "id": "Ew3qylPXJO9r"
      },
      "source": [
        "nums = list(range(\"Total Profit\":['951410.50','337937.6','5270.67','13009.18', \n",
        "                '369155','727423.2','60418.38','146875.14','1678540.98','147031.74'))\n",
        "\n",
        "result = average(reals)\n",
        "\n",
        "print(result)"
      ],
      "execution_count": null,
      "outputs": []
    },
    {
      "cell_type": "code",
      "metadata": {
        "colab": {
          "base_uri": "https://localhost:8080/",
          "height": 146
        },
        "id": "kzTXHd56dGya",
        "outputId": "ecade362-0e39-4f9a-defe-bc3b7777d853"
      },
      "source": [
        "#plot the 'total profit' of countries in Australia and Oceania region \n",
        "#I tried many times to plot a bar chart but I could not do that\n",
        "\n",
        "import pandas as pd\n",
        "\n",
        "   \n",
        "data = {'Country':['Tuvalu','East Timor','New Zealand','Kiribati','Australia','Fiji','Australia','Federated States of Micronesia','Samoa','Australia']\n",
        "        'Total Profit':['951410.50','337937.6','5270.67','13009.18', '369155','727423.2','60418.38','146875.14','1678540.98','147031.74'] \n",
        "       }\n",
        "\n",
        "  \n",
        "df = pd.DataFrame(data,columns=['Country','Total Profit'])\n",
        "df.plot(x ='counrty', y= 'Total Profit', kind = 'bar')\n",
        "plt.show()"
      ],
      "execution_count": 119,
      "outputs": [
        {
          "output_type": "error",
          "ename": "SyntaxError",
          "evalue": "ignored",
          "traceback": [
            "\u001b[0;36m  File \u001b[0;32m\"<ipython-input-119-42ca0386014a>\"\u001b[0;36m, line \u001b[0;32m6\u001b[0m\n\u001b[0;31m    'Total Profit':['951410.50','337937.6','5270.67','13009.18', '369155','727423.2','60418.38','146875.14','1678540.98','147031.74']\u001b[0m\n\u001b[0m                 ^\u001b[0m\n\u001b[0;31mSyntaxError\u001b[0m\u001b[0;31m:\u001b[0m invalid syntax\n"
          ]
        }
      ]
    }
  ]
}